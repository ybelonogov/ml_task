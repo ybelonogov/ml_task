{
 "cells": [
  {
   "cell_type": "markdown",
   "id": "e390d1f4",
   "metadata": {},
   "source": [
    "# план\n",
    "## 0) создать проект\n",
    "## 1) научиться на видео находить человека\n",
    "## 2) научиться определть положение его тела\n",
    "## 3) научиться определять цикличные повторения\n",
    "## 4) класифицировать повторения\n",
    "## 5) положить это в мобильное приложение"
   ]
  },
  {
   "cell_type": "markdown",
   "id": "a066d279",
   "metadata": {},
   "source": []
  }
 ],
 "metadata": {
  "kernelspec": {
   "display_name": "Python 3 (ipykernel)",
   "language": "python",
   "name": "python3"
  },
  "language_info": {
   "codemirror_mode": {
    "name": "ipython",
    "version": 3
   },
   "file_extension": ".py",
   "mimetype": "text/x-python",
   "name": "python",
   "nbconvert_exporter": "python",
   "pygments_lexer": "ipython3",
   "version": "3.9.7"
  }
 },
 "nbformat": 4,
 "nbformat_minor": 5
}
