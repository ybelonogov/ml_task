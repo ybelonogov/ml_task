{
 "cells":[
  {
   "cell_type":"markdown",
   "source":[
    " \n",
    "# Установка библиотек"
   ],
   "attachments":{
    
   },
   "metadata":{
    "datalore":{
     "node_id":"si2nsBzsXZAvnJSGHsRmXz",
     "type":"MD",
     "hide_input_from_viewers":false,
     "hide_output_from_viewers":false,
     "report_properties":{
      "rowId":"xKSlI0JGy2HZioEJGpzMq0"
     }
    }
   }
  },
  {
   "cell_type":"code",
   "source":[
    "!pip install ultralytics\n",
    "!pip install clearml\n",
    "!pip install supervision"
   ],
   "execution_count":148,
   "outputs":[
    
   ],
   "metadata":{
    "datalore":{
     "node_id":"7h5GfATsJ0Owpl4TH0vTR6",
     "type":"CODE",
     "hide_input_from_viewers":false,
     "hide_output_from_viewers":false,
     "report_properties":{
      "rowId":"9Xbrseg7AHEAbOznNortIM"
     }
    }
   }
  },
  {
   "cell_type":"code",
   "source":[
    "from ultralytics import YOLO\n",
    "import cv2\n",
    "import numpy as np\n",
    "import supervision as sv"
   ],
   "execution_count":149,
   "outputs":[
    
   ],
   "metadata":{
    "datalore":{
     "node_id":"qXPHkOFoPRqKHVFOmtDjpi",
     "type":"CODE",
     "hide_input_from_viewers":false,
     "hide_output_from_viewers":false,
     "report_properties":{
      "rowId":"QhLR0xVildZuep6oRDTrdN"
     }
    }
   }
  },
  {
   "cell_type":"code",
   "source":[
    "model = YOLO(\"yolov8n-pose.pt\")"
   ],
   "execution_count":199,
   "outputs":[
    
   ],
   "metadata":{
    "datalore":{
     "node_id":"GNqtvG1nU96yzhkYChR3ZS",
     "type":"CODE",
     "hide_input_from_viewers":true,
     "hide_output_from_viewers":true
    }
   }
  },
  {
   "cell_type":"markdown",
   "source":[
    " \n",
    "# Общие геометрические функции, которые потребуются для написания эвристик\n",
    "\n",
    "![](https:\/\/github.com\/ybelonogov\/ml_task\/tree\/master\/data\/keypoints_yolo.png)"
   ],
   "attachments":{
    
   },
   "metadata":{
    "datalore":{
     "node_id":"R6agvpplTU08FgoezKb6y2",
     "type":"MD",
     "hide_input_from_viewers":true,
     "hide_output_from_viewers":true
    }
   }
  },
  {
   "cell_type":"code",
   "source":[
    "def calculate_distance(keypoints, idx1, idx2):\n",
    "    x1, y1 = keypoints.xy[0][idx1]\n",
    "    x2, y2 = keypoints.xy[0][idx2]\n",
    "    if keypoints.has_visible:\n",
    "        distance = np.sqrt((x2 - x1) ** 2 + (y2 - y1) ** 2)\n",
    "        return distance\n",
    "    else:\n",
    "        return None\n",
    "\n",
    "\n",
    "def choose_side(keypoints):\n",
    "    r_shoulder = calculate_distance(keypoints, 6, 8)\n",
    "    l_shoulder = calculate_distance(keypoints, 5, 7)\n",
    "    return r_shoulder > l_shoulder"
   ],
   "execution_count":152,
   "outputs":[
    
   ],
   "metadata":{
    "datalore":{
     "node_id":"PxNZ9he641HX8CZ33QStc7",
     "type":"CODE",
     "hide_input_from_viewers":true,
     "hide_output_from_viewers":true
    }
   }
  },
  {
   "cell_type":"code",
   "source":[
    "def calculate_angle(a, b, c):\n",
    "    a = np.array(a)  # First\n",
    "    b = np.array(b)  # Mid\n",
    "    c = np.array(c)  # End\n",
    "\n",
    "    radians = np.arctan2(c[1] - b[1], c[0] - b[0]) - np.arctan2(a[1] - b[1], a[0] - b[0])\n",
    "    angle = np.abs(radians * 180.0 \/ np.pi)\n",
    "\n",
    "    if angle > 180.0:\n",
    "        angle = 360 - angle\n",
    "\n",
    "    return angle "
   ],
   "execution_count":153,
   "outputs":[
    
   ],
   "metadata":{
    "datalore":{
     "node_id":"UsTsh1M0hx0WEqMifLbUYP",
     "type":"CODE",
     "hide_input_from_viewers":true,
     "hide_output_from_viewers":true
    }
   }
  },
  {
   "cell_type":"markdown",
   "source":[
    " \n",
    "# Эвристики для отжиманий"
   ],
   "attachments":{
    
   },
   "metadata":{
    "datalore":{
     "node_id":"1rwclc441emo7xh5y6wsj2",
     "type":"MD",
     "hide_input_from_viewers":true,
     "hide_output_from_viewers":true
    }
   }
  },
  {
   "cell_type":"code",
   "source":[
    "def check_position_body_line(keypoints):\n",
    "    if side:\n",
    "        #распремлена поясница\n",
    "        angle1 = calculate_angle(keypoints.xy[0][6],\n",
    "                                 keypoints.xy[0][12],\n",
    "                                 keypoints.xy[0][14], )\n",
    "        #распрямлены ноги\n",
    "        angle2 = calculate_angle(keypoints.xy[0][12],\n",
    "                                 keypoints.xy[0][14],\n",
    "                                 keypoints.xy[0][16], )\n",
    "        #изгиб локтя\n",
    "        angle3 = calculate_angle(keypoints.xy[0][6],\n",
    "                                 keypoints.xy[0][8],\n",
    "                                 keypoints.xy[0][10], )\n",
    "    else:\n",
    "        angle1 = calculate_angle(keypoints.xy[0][5],\n",
    "                                 keypoints.xy[0][11],\n",
    "                                 keypoints.xy[0][13], )\n",
    "        angle2 = calculate_angle(keypoints.xy[0][11],\n",
    "                                 keypoints.xy[0][13],\n",
    "                                 keypoints.xy[0][15], )\n",
    "        angle3 = calculate_angle(keypoints.xy[0][5],\n",
    "                                 keypoints.xy[0][7],\n",
    "                                 keypoints.xy[0][9], )\n",
    "\n",
    "    # return angle1 > 120 and (angle2 > 120 or angle2 < 45) and angle3 < 120\n",
    "    return angle1 + angle2 > 260 and angle3 < 120\n",
    "\n",
    "\n",
    "def get_push_up_angle(keypoints):\n",
    "    if side:\n",
    "        angle = calculate_angle(keypoints.xy[0][6],\n",
    "                                keypoints.xy[0][8],\n",
    "                                keypoints.xy[0][12],\n",
    "                                ) - calculate_angle(keypoints.xy[0][6],\n",
    "                                                    keypoints.xy[0][8],\n",
    "                                                    keypoints.xy[0][10], )\n",
    "    else:\n",
    "        angle = calculate_angle(keypoints.xy[0][5],\n",
    "                                keypoints.xy[0][7],\n",
    "                                keypoints.xy[0][11],\n",
    "                                ) - calculate_angle(keypoints.xy[0][5],\n",
    "                                                    keypoints.xy[0][7],\n",
    "                                                    keypoints.xy[0][9], )\n",
    "    return angle\n",
    "\n",
    "\n",
    "def check_push_up_down(keypoints, prev_angle):\n",
    "    angle = get_push_up_angle(keypoints=result.keypoints)\n",
    "    if angle >= prev_angle:\n",
    "        # prev_angle = max(angle, prev_angle)\n",
    "        return True\n",
    "    else:\n",
    "\n",
    "        return False\n",
    "\n",
    "\n",
    "def check_push_up(keypoints, prev_angle):\n",
    "    angle = get_push_up_angle(keypoints=result.keypoints)\n",
    "    if angle < prev_angle:\n",
    "        return True\n",
    "    else:\n",
    "        return False\n"
   ],
   "execution_count":181,
   "outputs":[
    
   ],
   "metadata":{
    "datalore":{
     "node_id":"5MjW4y2UKfNvh0Of6ZRPhe",
     "type":"CODE",
     "hide_input_from_viewers":true,
     "hide_output_from_viewers":true
    }
   }
  },
  {
   "cell_type":"markdown",
   "source":[
    " \n",
    "# Эвристики для приседаний"
   ],
   "attachments":{
    
   },
   "metadata":{
    "datalore":{
     "node_id":"uHvqPTYmN83rkGptovSO0n",
     "type":"MD",
     "hide_input_from_viewers":true,
     "hide_output_from_viewers":true
    }
   }
  },
  {
   "cell_type":"code",
   "source":[
    "def check_position_legs_bent(keypoints):\n",
    "    if side:\n",
    "        #распремлена поясница\n",
    "        angle1 = calculate_angle(keypoints.xy[0][6],\n",
    "                                 keypoints.xy[0][12],\n",
    "                                 keypoints.xy[0][14], )\n",
    "        #распрямлены ноги\n",
    "        angle2 = calculate_angle(keypoints.xy[0][12],\n",
    "                                 keypoints.xy[0][14],\n",
    "                                 keypoints.xy[0][16], )\n",
    "    else:\n",
    "        angle1 = calculate_angle(keypoints.xy[0][5],\n",
    "                                 keypoints.xy[0][11],\n",
    "                                 keypoints.xy[0][13], )\n",
    "        angle2 = calculate_angle(keypoints.xy[0][11],\n",
    "                                 keypoints.xy[0][13],\n",
    "                                 keypoints.xy[0][15], )\n",
    "    return angle1 + angle2 < 260\n",
    "\n",
    "\n",
    "def get_squats_angls(keypoints):\n",
    "    if side:\n",
    "        # колено\n",
    "        angle1 = calculate_angle(keypoints.xy[0][12],\n",
    "                                 keypoints.xy[0][14],\n",
    "                                 keypoints.xy[0][16], )\n",
    "        # таз\n",
    "        angle2 = calculate_angle(keypoints.xy[0][6],\n",
    "                                 keypoints.xy[0][12],\n",
    "                                 keypoints.xy[0][14], )\n",
    "    else:\n",
    "        angle1 = calculate_angle(keypoints.xy[0][11],\n",
    "                                 keypoints.xy[0][13],\n",
    "                                 keypoints.xy[0][15], )\n",
    "        angle2 = calculate_angle(keypoints.xy[0][5],\n",
    "                                 keypoints.xy[0][11],\n",
    "                                 keypoints.xy[0][13], )\n",
    "    return angle1, angle2\n",
    "\n",
    "\n",
    "def check_squats_down(keypoints, prev_angls):\n",
    "    angls = get_squats_angls(keypoints)\n",
    "    if angls[0] + angls[1] > prev_angls[1] + prev_angls[0]:\n",
    "        return True\n",
    "    return False\n",
    "\n",
    "\n",
    "def check_squats_up(keypoints, prev_angls):\n",
    "    angls = get_squats_angls(keypoints)\n",
    "    if angls[0] + angls[1] < prev_angls[1] + prev_angls[0]:\n",
    "        return True\n",
    "    return False"
   ],
   "execution_count":188,
   "outputs":[
    
   ],
   "metadata":{
    "datalore":{
     "node_id":"USPjkZFTxFpfc73VeM7xLl",
     "type":"CODE",
     "hide_input_from_viewers":true,
     "hide_output_from_viewers":true
    }
   }
  },
  {
   "cell_type":"markdown",
   "source":[
    " \n",
    "# TODO: Эвристики для подтягиваний\n",
    "## Делать бесполезно, так-как нужно обучать класификатор   "
   ],
   "attachments":{
    
   },
   "metadata":{
    "datalore":{
     "node_id":"60DikZzzIMyOjwPjRSiL63",
     "type":"MD",
     "hide_input_from_viewers":true,
     "hide_output_from_viewers":true
    }
   }
  },
  {
   "cell_type":"code",
   "source":[
    "def check_pull_ups(keypoints, movment_down):\n",
    "    return "
   ],
   "execution_count":156,
   "outputs":[
    
   ],
   "metadata":{
    "datalore":{
     "node_id":"9Wv7iZF7RzYQwlL59QrKoj",
     "type":"CODE",
     "hide_input_from_viewers":true,
     "hide_output_from_viewers":true
    }
   }
  },
  {
   "cell_type":"markdown",
   "source":[
    "# Вывод основной + debug информации на экран"
   ],
   "attachments":{
    
   },
   "metadata":{
    "datalore":{
     "node_id":"WWR3Nacm9M9CyfT7JGWCR4",
     "type":"MD",
     "hide_input_from_viewers":true,
     "hide_output_from_viewers":true
    }
   }
  },
  {
   "cell_type":"code",
   "source":[
    "def print_count(image, pull_ups, push_ups, squats, person):\n",
    "    org = [20, 100]  # Например, (x, y) = (50, 50)\n",
    "    font = cv2.FONT_HERSHEY_SIMPLEX\n",
    "    font_scale = 4  # Масштаб шрифта\n",
    "    font_color = (0, 200, 0)  # Цвет шрифта в формате BGR   \n",
    "    thickness = 6  # Толщина шрифта\n",
    "    org[1] = org[1] + (person - 1) * 400\n",
    "    # text = \"person: {0} \".format(person)\n",
    "    # cv2.putText(image, text, org, font, font_scale, font_color, thickness)\n",
    "    # org[1] += 100\n",
    "    text = \"pull ups: {0} \".format(pull_ups)\n",
    "    cv2.putText(image, text, org, font, font_scale, font_color, thickness)\n",
    "    org[1] += 100\n",
    "    text = \"push ups: {0} \".format(push_ups)\n",
    "    cv2.putText(image, text, org, font, font_scale, font_color, thickness)\n",
    "    org[1] += 100\n",
    "    text = \"squats: {0}\".format(squats)\n",
    "    cv2.putText(image, text, org, font, font_scale, font_color, thickness)\n",
    "\n",
    "\n",
    "def print_debag_info(image, movment_down, prev_angle, position_line, pos_squat):\n",
    "    org = [20, 100]  # Например, (x, y) = (50, 50)\n",
    "    font = cv2.FONT_HERSHEY_SIMPLEX\n",
    "    font_scale = 2  # Масштаб шрифта\n",
    "    font_color = (0, 200, 0)  # Цвет шрифта в формате BGR   \n",
    "    thickness = 2  # Толщина шрифта\n",
    "    org[1] = org[1] + 400\n",
    "    # text = \"{0} \".format(push_ups)\n",
    "    # cv2.putText(image, text, org, font, font_scale, font_color, thickness)\n",
    "    # org[1] += 100\n",
    "    text = \"movment_down: {0} \".format(movment_down)\n",
    "    cv2.putText(image, text, org, font, font_scale, font_color, thickness)\n",
    "    org[1] += 50\n",
    "    text = \"prev_angle: {0} \".format(prev_angle)\n",
    "    cv2.putText(image, text, org, font, font_scale, font_color, thickness)\n",
    "    org[1] += 50\n",
    "    text = \"pos= line: {0}\".format(position_line)\n",
    "    cv2.putText(image, text, org, font, font_scale, font_color, thickness)\n",
    "    org[1] += 50\n",
    "    text = \"pos= squat: {0}\".format(pos_squat)\n",
    "    cv2.putText(image, text, org, font, font_scale, font_color, thickness)"
   ],
   "execution_count":194,
   "outputs":[
    
   ],
   "metadata":{
    "datalore":{
     "node_id":"8KRx6yvaFEpz7rdyv7ReTx",
     "type":"CODE",
     "hide_input_from_viewers":true,
     "hide_output_from_viewers":true
    }
   }
  },
  {
   "cell_type":"markdown",
   "source":[
    "# Загрузка и обработка видео  "
   ],
   "attachments":{
    
   },
   "metadata":{
    "datalore":{
     "node_id":"FW3RPud88qqzXi5tlTfMCR",
     "type":"MD",
     "hide_input_from_viewers":true,
     "hide_output_from_viewers":true
    }
   }
  },
  {
   "cell_type":"code",
   "source":[
    "video = cv2.VideoCapture(\"data\/push_up4.mp4\")\n",
    "video_info = sv.VideoInfo.from_video_path(\"data\/push_up4.mp4\")\n",
    "fourcc = cv2.VideoWriter_fourcc(*\"XVID\")\n",
    "output_video = cv2.VideoWriter(\"ans\/output.mp4\", fourcc, video_info.fps,\n",
    "                               (video_info.width, video_info.height))\n",
    "# result = model(source=\"data\/push_ups1.mp4\", show=False, conf=0.3, save=True)\n",
    "push_up_count = 0\n",
    "pull_up_count = 0\n",
    "squats_count = 0\n",
    "movment_down = True\n",
    "prev_angle = 0\n",
    "cadr_num = 0\n",
    "while True:\n",
    "    ret, frame = video.read()\n",
    "    if not ret:\n",
    "        break\n",
    "    if cadr_num % 5 == 0:\n",
    "        results = model.predict(frame)\n",
    "        person = 1\n",
    "        # for result in results:\n",
    "        result = results[0]\n",
    "        side = choose_side(keypoints=result.keypoints)\n",
    "        # push_ups подсчёт \n",
    "        if check_position_body_line(result.keypoints) and not check_position_legs_bent(result.keypoints):\n",
    "\n",
    "            if movment_down and check_push_up_down(result.keypoints, prev_angle):\n",
    "                movment_down = False\n",
    "            if not movment_down and check_push_up(result.keypoints, prev_angle):\n",
    "                push_up_count += 1\n",
    "                movment_down = True\n",
    "        prev_angle = get_push_up_angle(result.keypoints)\n",
    "        # print_count(frame, pull_up_count, push_up_count, squats_count, person)\n",
    "        # print_debag_info(frame, movment_down_squats, prev_angls[0] ,\n",
    "        #                  check_position_body_line(result.keypoints),\n",
    "        #                  check_position_legs_bent(result.keypoints))\n",
    "        # output_video.write(frame)\n",
    "\n",
    "    cadr_num += 1\n",
    "    print_count(frame, pull_up_count, push_up_count, squats_count, person)\n",
    "    output_video.write(frame)\n",
    "\n",
    "video.release()\n",
    "output_video.release()\n",
    "cv2.destroyAllWindows()"
   ],
   "execution_count":211,
   "outputs":[
    
   ],
   "metadata":{
    "datalore":{
     "node_id":"LgIz8qhInUPIMGCiyt0SAa",
     "type":"CODE",
     "hide_input_from_viewers":true,
     "hide_output_from_viewers":true
    }
   }
  },
  {
   "cell_type":"code",
   "source":[
    "video = cv2.VideoCapture(\"data\/squats.mp4\")\n",
    "# output_path = os.path.join(\"\", \"output2.mp4\")\n",
    "video_info = sv.VideoInfo.from_video_path(\"data\/squats.mp4\")\n",
    "fourcc = cv2.VideoWriter_fourcc(*\"XVID\")\n",
    "output_video = cv2.VideoWriter(\"output5.mp4\", fourcc, video_info.fps,\n",
    "                               (video_info.width, video_info.height))\n",
    "# result = model(source=\"data\/push_ups1.mp4\", show=False, conf=0.3, save=True)\n",
    "push_up_count = 0\n",
    "pull_up_count = 0\n",
    "squats_count = 0\n",
    "movment_down = True\n",
    "movment_down_squats = True\n",
    "prev_angls = (0,0)\n",
    "cadr_num = 0\n",
    "while True:\n",
    "    ret, frame = video.read()\n",
    "    if not ret:\n",
    "        break\n",
    "    if cadr_num % 5 == 0:\n",
    "        results = model.predict(frame)\n",
    "        person = 1\n",
    "        # for result in results:\n",
    "        result = results[0]\n",
    "        side = choose_side(keypoints=result.keypoints)\n",
    "\n",
    "        # squats подчёт\n",
    "        if check_position_legs_bent(result.keypoints):\n",
    "            if movment_down_squats and check_squats_down(result.keypoints, prev_angls):\n",
    "                movment_down_squats = False\n",
    "            if not movment_down_squats and check_squats_up(result.keypoints, prev_angls):\n",
    "                movment_down_squats = True\n",
    "                squats_count += 1\n",
    "        prev_angls = get_squats_angls(result.keypoints)\n",
    "\n",
    "        # print_count(frame, pull_up_count, push_up_count, squats_count, person)\n",
    "        # print_debag_info(frame, movment_down_squats, prev_angls[0] ,\n",
    "        #                  check_position_body_line(result.keypoints),\n",
    "        #                  check_position_legs_bent(result.keypoints))\n",
    "        # output_video.write(frame)\n",
    "\n",
    "    cadr_num += 1\n",
    "    print_count(frame, pull_up_count, push_up_count, squats_count, person)\n",
    "    output_video.write(frame)\n",
    "\n",
    "video.release()\n",
    "output_video.release()\n",
    "cv2.destroyAllWindows()"
   ],
   "execution_count":221,
   "outputs":[
    
   ],
   "metadata":{
    "datalore":{
     "node_id":"DPrXTkKu7XB7RPUZSlUdxv",
     "type":"CODE",
     "hide_input_from_viewers":true,
     "hide_output_from_viewers":true
    }
   }
  },
  {
   "cell_type":"code",
   "source":[
    "squats_count"
   ],
   "execution_count":222,
   "outputs":[
    {
     "data":{
      "text\/plain":[
       "3"
      ]
     },
     "metadata":{
      
     },
     "output_type":"display_data"
    }
   ],
   "metadata":{
    "datalore":{
     "node_id":"Zs4mSEqtMRIyi5lLd7oP75",
     "type":"CODE",
     "hide_input_from_viewers":true,
     "hide_output_from_viewers":true
    }
   }
  }
 ],
 "metadata":{
  "kernelspec":{
   "display_name":"Python",
   "language":"python",
   "name":"python"
  },
  "datalore":{
   "computation_mode":"JUPYTER",
   "package_manager":"pip",
   "base_environment":"default",
   "packages":[
    
   ],
   "report_row_ids":[
    "xKSlI0JGy2HZioEJGpzMq0",
    "QhLR0xVildZuep6oRDTrdN",
    "9Xbrseg7AHEAbOznNortIM"
   ],
   "version":3
  }
 },
 "nbformat":4,
 "nbformat_minor":4
}